{
  "cells": [
    {
      "cell_type": "markdown",
      "metadata": {
        "id": "BSLyqeNf3zoN"
      },
      "source": [
        "# Finetune YoloV8 for binary classification\n",
        "\n",
        "In this practical session, we're going to dive into the fascinating world of computer vision and machine learning by fine-tuning the YOLOv8 model for a specific task: binary classification. Our goal is to teach the model to differentiate between two categories of images - trucks and non-trucks. YOLOv8  is a powerful deep learning model known for its speed and accuracy in object detection, image segmentation or image classification tasks."
      ]
    },
    {
      "cell_type": "markdown",
      "metadata": {
        "id": "vfOuKJm1JQgV"
      },
      "source": [
        "Use nvidia-smi command to display your GPU config"
      ]
    },
    {
      "cell_type": "code",
      "execution_count": null,
      "metadata": {},
      "outputs": [],
      "source": [
        "# FIXME"
      ]
    },
    {
      "cell_type": "markdown",
      "metadata": {
        "id": "MMxUGwUy33k8"
      },
      "source": [
        "## Download the dataset\n",
        "\n",
        "The following cells can be used to download the dataset"
      ]
    },
    {
      "cell_type": "code",
      "execution_count": null,
      "metadata": {
        "id": "2U7TUJY63N6d"
      },
      "outputs": [],
      "source": [
        "# Install tool to download the dataset and to measure the performances\n",
        "# Install library for Yolo model\n",
        "\n",
        "!pip install gdown\n",
        "!pip install tqdm\n",
        "!pip install scikit-learn\n",
        "!pip install ultralytics"
      ]
    },
    {
      "cell_type": "code",
      "execution_count": null,
      "metadata": {
        "id": "iSho1y0_3Qbq"
      },
      "outputs": [],
      "source": [
        "# Download the dataset and untar the dataset\n",
        "\n",
        "!gdown https://drive.google.com/uc?id=19NFEwpG0uu7gdJ9NTpQuGRw50CeVOI0R\n",
        "!tar xvf truck_dataset.tar.gz"
      ]
    },
    {
      "cell_type": "markdown",
      "metadata": {
        "id": "oDll9kVFQidN"
      },
      "source": [
        "## Split the dataset into train and test\n",
        "\n",
        "`train`: Used to train the model\n",
        "\n",
        "`test`: Used to test the performances of the model\n",
        "\n",
        "By measuring the performances on both set, we can see if the model can properly generalize to unknown images.\n",
        "\n",
        "You can use this code to split the dataset into 2 sets (train and test)"
      ]
    },
    {
      "cell_type": "code",
      "execution_count": null,
      "metadata": {
        "id": "6VYKPbuM6k3u"
      },
      "outputs": [],
      "source": [
        "from typing import List, Dict"
      ]
    },
    {
      "cell_type": "code",
      "execution_count": null,
      "metadata": {
        "id": "U8qsOXPPRMKm"
      },
      "outputs": [],
      "source": [
        "import os\n",
        "import shutil\n",
        "from tqdm import tqdm\n",
        "from sklearn.model_selection import train_test_split\n",
        "\n",
        "def train_test_split_folder(\n",
        "    dataset_base_path: str = 'truck_dataset/',\n",
        "    split_size: float = 0.2,\n",
        "    classes: List[str] = ['truck', 'other'],\n",
        "):\n",
        "    '''\n",
        "    Split the dataset into train and test folder\n",
        "\n",
        "    Parameters\n",
        "    ----------\n",
        "    dataset_base_path: Root path of the dataset (before 'train/' folder)\n",
        "    split_size: Size of the test set (0.2 means we use 20% of the dataset for test and 80% for train)\n",
        "    classes: List of the classes in the dataset\n",
        "    '''\n",
        "    dataset_dir_train = os.path.join(dataset_base_path, 'train')\n",
        "    dataset_dir_test = os.path.join(dataset_base_path, 'test')\n",
        "\n",
        "    # Create the test folder\n",
        "    os.makedirs(dataset_dir_test, exist_ok=True)\n",
        "\n",
        "    # Function to split and move files\n",
        "    def split_and_move_files(class_name: str):\n",
        "        source_dir = os.path.join(dataset_dir_train, class_name)\n",
        "        files = os.listdir(source_dir)\n",
        "\n",
        "        # Splitting files into train and test\n",
        "        train_files, test_files = train_test_split(files, test_size=split_size, random_state=42)\n",
        "\n",
        "        # Moving test files to the test directory\n",
        "        for f in tqdm(test_files):\n",
        "            shutil.move(os.path.join(source_dir, f), os.path.join(dataset_dir_test, class_name, f))\n",
        "\n",
        "    # Split and move files for each class\n",
        "    for class_dir in ['truck', 'other']:\n",
        "        print(\"Move files for class: \", class_dir)\n",
        "        os.makedirs(os.path.join(dataset_dir_test, class_dir), exist_ok=True)\n",
        "        split_and_move_files(class_dir)"
      ]
    },
    {
      "cell_type": "code",
      "execution_count": null,
      "metadata": {
        "colab": {
          "base_uri": "https://localhost:8080/"
        },
        "id": "kGcLNNCiZmAj",
        "outputId": "b2794830-6ca7-405e-dd74-888080d44125"
      },
      "outputs": [
        {
          "name": "stdout",
          "output_type": "stream",
          "text": [
            "Move files for class:  truck\n"
          ]
        },
        {
          "name": "stderr",
          "output_type": "stream",
          "text": [
            "100%|██████████| 105/105 [00:00<00:00, 22107.42it/s]\n"
          ]
        },
        {
          "name": "stdout",
          "output_type": "stream",
          "text": [
            "Move files for class:  other\n"
          ]
        },
        {
          "name": "stderr",
          "output_type": "stream",
          "text": [
            "100%|██████████| 132/132 [00:00<00:00, 13607.16it/s]\n"
          ]
        }
      ],
      "source": [
        "# You can vary the split size\n",
        "train_test_split_folder(dataset_base_path=\"truck_dataset/\", split_size=0.15)"
      ]
    },
    {
      "cell_type": "markdown",
      "metadata": {
        "id": "UcIrhSeE6BT7"
      },
      "source": [
        "## Load and finetune the pretrained model"
      ]
    },
    {
      "cell_type": "markdown",
      "metadata": {
        "id": "dqOsyCZrJrpf"
      },
      "source": [
        "Important `ultralytics` library and call the `checks` function to display all the informations: yolo version, python version, torch version, number of CPU / GPU / RAM ..."
      ]
    },
    {
      "cell_type": "code",
      "execution_count": null,
      "metadata": {},
      "outputs": [],
      "source": [
        "# FIXME"
      ]
    },
    {
      "cell_type": "markdown",
      "metadata": {
        "id": "NxWm4XtTJ_Ue"
      },
      "source": [
        "Load yoloV8 model for classification, you can start with the smallest model.\n",
        "\n",
        "Keep in mind that the Yolo classification model can classify into 1000 classes. When you test the model on different images, you need to identify the classes that can be considered as truck"
      ]
    },
    {
      "cell_type": "code",
      "execution_count": null,
      "metadata": {},
      "outputs": [],
      "source": [
        "# FIXME"
      ]
    },
    {
      "cell_type": "markdown",
      "metadata": {
        "id": "4cCbm9NoKGgj"
      },
      "source": [
        "Now send the model on the GPU device"
      ]
    },
    {
      "cell_type": "code",
      "execution_count": null,
      "metadata": {},
      "outputs": [],
      "source": [
        "# FIXME"
      ]
    },
    {
      "cell_type": "markdown",
      "metadata": {
        "id": "6XW04PWfPpz2"
      },
      "source": [
        "Load an image, plot the image and make the prediction of the model.\n",
        "Apply those steps for both classes"
      ]
    },
    {
      "cell_type": "code",
      "execution_count": null,
      "metadata": {},
      "outputs": [],
      "source": [
        "# FIXME"
      ]
    },
    {
      "cell_type": "code",
      "execution_count": 59,
      "metadata": {
        "id": "-lKBynIte2i6"
      },
      "outputs": [],
      "source": [
        "classes = [\n",
        "    'moving_van',\n",
        "    'minivan',\n",
        "    'police_van',\n",
        "    'freight_car',\n",
        "    'trailer_truck',\n",
        "    'crane_(machine)',\n",
        "    'tow_truck',\n",
        "    'garbage_truck',\n",
        "    'half_track',\n",
        "    'tow_truck'\n",
        "]"
      ]
    },
    {
      "cell_type": "markdown",
      "metadata": {
        "id": "yyZ-TL4gMVjI"
      },
      "source": [
        "First measure the performances of the model on the images. The model can work directly with saved images, you don't need to load all of them manually directly"
      ]
    },
    {
      "cell_type": "code",
      "execution_count": null,
      "metadata": {},
      "outputs": [],
      "source": [
        "# FIXME"
      ]
    },
    {
      "cell_type": "markdown",
      "metadata": {
        "id": "HaxE2dg6KQqz"
      },
      "source": [
        "We will try to improve the performances and finetune the YoloV8 model"
      ]
    },
    {
      "cell_type": "code",
      "execution_count": null,
      "metadata": {},
      "outputs": [],
      "source": [
        "# FIXME"
      ]
    },
    {
      "cell_type": "markdown",
      "metadata": {
        "id": "-M_IrKpBuCUe"
      },
      "source": [
        "Now compare the accuracy and the confusion matrix"
      ]
    },
    {
      "cell_type": "code",
      "execution_count": null,
      "metadata": {},
      "outputs": [],
      "source": [
        "# FIXME"
      ]
    },
    {
      "cell_type": "markdown",
      "metadata": {},
      "source": [
        "Now measure the performances with other Yolov8 models (bigger ones for instance)\n",
        "\n",
        "\n",
        "You can find the list of models for classification here:\n",
        "\n",
        "https://docs.ultralytics.com/fr/tasks/classify/\n",
        "\n",
        "Compare the performances of all the models"
      ]
    },
    {
      "cell_type": "code",
      "execution_count": null,
      "metadata": {
        "id": "lS96ByZyhp6x"
      },
      "outputs": [],
      "source": [
        "# FIXME"
      ]
    }
  ],
  "metadata": {
    "accelerator": "GPU",
    "colab": {
      "gpuType": "T4",
      "provenance": []
    },
    "kernelspec": {
      "display_name": "Python 3",
      "name": "python3"
    },
    "language_info": {
      "name": "python"
    }
  },
  "nbformat": 4,
  "nbformat_minor": 0
}
