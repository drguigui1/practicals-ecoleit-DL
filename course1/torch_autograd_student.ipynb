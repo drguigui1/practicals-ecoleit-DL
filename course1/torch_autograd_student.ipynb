{
  "cells": [
    {
      "cell_type": "markdown",
      "metadata": {
        "id": "5SNrisJt1R6x"
      },
      "source": [
        "<center><h1>Automatic Differentiation with Autograd</h1></center>\n",
        "\n",
        "In this tutorial, we'll explore how PyTorch's autograd system eliminates the need for manually defining gradients for our complex operations by automatically calculating them. Additionally, we will delve into the torch.nn module, which offers a suite of pre-built deep learning layers, and learn how to construct a Multilayer Perceptron (MLP) utilizing this toolkit.\n",
        "\n",
        "You can read this page: https://en.wikipedia.org/wiki/Automatic_differentiation\n",
        "\n",
        "After this practical, you have to read this one from pytorch: https://pytorch.org/tutorials/beginner/introyt/autogradyt_tutorial.html"
      ]
    },
    {
      "cell_type": "code",
      "execution_count": 1,
      "metadata": {
        "id": "ggAzAMUA1aLX"
      },
      "outputs": [],
      "source": [
        "%matplotlib inline\n",
        "\n",
        "import torch\n",
        "import numpy as np\n",
        "from sklearn.datasets import load_digits\n",
        "import matplotlib.pyplot as plt"
      ]
    },
    {
      "cell_type": "code",
      "execution_count": 2,
      "metadata": {
        "colab": {
          "base_uri": "https://localhost:8080/",
          "height": 263
        },
        "id": "SNV8PBOv1coo",
        "outputId": "33ef6381-2e9c-4775-bbf0-2d7c3b5f25db"
      },
      "outputs": [
        {
          "name": "stdout",
          "output_type": "stream",
          "text": [
            "Min and max value: 0.0, 1.0\n",
            "Flatenned images shape: torch.Size([1797, 64])\n"
          ]
        },
        {
          "data": {
            "image/png": "[encoded data removed]",
            "text/plain": [
              "<Figure size 640x480 with 3 Axes>"
            ]
          },
          "metadata": {},
          "output_type": "display_data"
        }
      ],
      "source": [
        "digits = load_digits()\n",
        "X = torch.tensor(digits[\"images\"]).float()\n",
        "Y = torch.tensor(digits[\"target\"]).long()\n",
        "\n",
        "plt.subplot(1, 3, 1)\n",
        "plt.imshow(X[42], cmap=\"gray\")\n",
        "plt.title(f\"Digit: {Y[42]}\");\n",
        "\n",
        "plt.subplot(1, 3, 2)\n",
        "plt.imshow(X[64], cmap=\"gray\")\n",
        "plt.title(f\"Digit: {Y[64]}\");\n",
        "\n",
        "plt.subplot(1, 3, 3)\n",
        "plt.imshow(X[1337], cmap=\"gray\")\n",
        "plt.title(f\"Digit: {Y[1337]}\");\n",
        "\n",
        "X = X / X.max()\n",
        "print(f\"Min and max value: {X.min()}, {X.max()}\")\n",
        "\n",
        "X = X.view(X.shape[0], -1)\n",
        "print(f\"Flatenned images shape: {X.shape}\")"
      ]
    },
    {
      "cell_type": "markdown",
      "metadata": {
        "id": "86217pZt1saH"
      },
      "source": [
        "## Autograd Guide\n",
        "\n",
        "\n",
        "In PyTorch, tensors have two main properties: `requires_grad` and `grad`. The `requires_grad` attribute indicates whether gradients should be calculated for the tensor, allowing for automatic differentiation during neural network training. Meanwhile, the grad attribute stores the gradients themselves once they've been computed.\n",
        "\n",
        "By default, `requires_grad` is set to false, which is suitable for situations where gradient computation is unnecessary. Examples include:\n",
        "\n",
        "Tensors representing image pixels, which are data inputs rather than parameters to be optimized.\n",
        "Tensors or model weights that should remain constant during training, also known as \"frozen\" parameters.\n",
        "Here's a simple illustration using the square function:\n",
        "\n",
        "For the function $f(x) = x^2$, its derivative $f'(x) = 2x$.\n",
        "\n",
        "Therefore, for $x = 4$, $f(4) = 16$ and $f'(4) = 8$."
      ]
    },
    {
      "cell_type": "code",
      "execution_count": 3,
      "metadata": {
        "colab": {
          "base_uri": "https://localhost:8080/"
        },
        "id": "RXYT3W841eUr",
        "outputId": "8eefe34d-9c43-444a-8908-caf56a380631"
      },
      "outputs": [
        {
          "name": "stdout",
          "output_type": "stream",
          "text": [
            "x=4.0, f(4.0)=16.0\n",
            "x=4.0, f'(4.0)=8.0\n"
          ]
        }
      ],
      "source": [
        "x = torch.tensor(4., requires_grad=True)\n",
        "\n",
        "def f(x):\n",
        "  return x ** 2\n",
        "\n",
        "y = f(x)\n",
        "print(f\"x={x}, f({x})={y}\")\n",
        "\n",
        "# We ask autograd to \"backward\" the gradients up to the start\n",
        "y.backward()\n",
        "\n",
        "print(f\"x={x}, f'({x})={x.grad}\")"
      ]
    },
    {
      "cell_type": "markdown",
      "metadata": {
        "id": "SWKYrLRO3L2Z"
      },
      "source": [
        "Let's create a more complex function for your students to work with. We'll use a polynomial function as the example, which introduces a mix of operations and is more complex than the simple square function. The chosen function will be:\n",
        "\n",
        "f(x) = 3x^3 - 2x^2 + 4x - 5\n",
        "\n",
        "This function involves cubic and quadratic terms, as well as linear and constant terms, making it a good candidate for a more challenging exercise on calculating gradients."
      ]
    },
    {
      "cell_type": "code",
      "execution_count": null,
      "metadata": {},
      "outputs": [],
      "source": [
        "# FIXME"
      ]
    },
    {
      "cell_type": "markdown",
      "metadata": {
        "id": "bEPUC3O72f8O"
      },
      "source": [
        "It's important to understand that, in PyTorch, the backward method is typically applied to scalar values (single numbers) by default, rather than tensors (vectors, matrices, and so on). This is a unique aspect of PyTorch's design.\n",
        "\n",
        "Below, you'll find two examples illustrating approaches to accommodate this characteristic:"
      ]
    },
    {
      "cell_type": "code",
      "execution_count": 5,
      "metadata": {
        "colab": {
          "base_uri": "https://localhost:8080/"
        },
        "id": "Vr0_RV6z2fvz",
        "outputId": "9b486c39-b30e-4485-cd66-750893c1cb4f"
      },
      "outputs": [
        {
          "name": "stdout",
          "output_type": "stream",
          "text": [
            "Gradients: tensor([2., 8., 4.])\n",
            "Gradients: tensor([2., 8., 4.])\n"
          ]
        }
      ],
      "source": [
        "x = torch.tensor([1., 4., 2.], requires_grad=True)\n",
        "(x ** 2).sum().backward()\n",
        "print(f\"Gradients: {x.grad}\")\n",
        "\n",
        "x = torch.tensor([1., 4., 2.], requires_grad=True)\n",
        "(x ** 2).backward(torch.tensor([1, 1, 1]))\n",
        "print(f\"Gradients: {x.grad}\")"
      ]
    },
    {
      "cell_type": "markdown",
      "metadata": {
        "id": "xJQcKYT43po4"
      },
      "source": [
        "Now let's take the formulas of a fully connected layer with 1 output:\n",
        "\n",
        "$\\mathbf{x} \\in \\mathbb{R^n}$, $\\mathbf{W} \\in \\mathbb{R^{n}}$, and $\\mathbf{b} \\in \\mathbb{R}$:\n",
        "\n",
        "$\\mathbf{h} = \\mathbf{W}\\mathbf{x} + \\mathbf{b}$\n",
        "\n",
        "... and code it in pytorch! What are gradients w.r.t the weights $\\mathbf{W}$ and $\\mathbf{b}$ according to you? Check it with autograd."
      ]
    },
    {
      "cell_type": "code",
      "execution_count": 6,
      "metadata": {
        "colab": {
          "base_uri": "https://localhost:8080/"
        },
        "id": "K_zfS3u_2ft6",
        "outputId": "f1d0ecc0-af43-4129-d620-91055037e63d"
      },
      "outputs": [
        {
          "name": "stdout",
          "output_type": "stream",
          "text": [
            "x is\n",
            " tensor([0.3691, 0.3334])\n",
            "grad W is\n",
            " tensor([0.3691, 0.3334])\n",
            "grad b is\n",
            " tensor([1.])\n"
          ]
        }
      ],
      "source": [
        "n = 2\n",
        "w = torch.randn(n, requires_grad=True)\n",
        "b = torch.randn(1, requires_grad=True)\n",
        "x = torch.randn(n)\n",
        "\n",
        "h = torch.dot(w, x) + b\n",
        "h.backward()\n",
        "\n",
        "print(f\"x is\\n {x}\")\n",
        "print(f\"grad W is\\n {w.grad}\")\n",
        "print(f\"grad b is\\n {b.grad}\")"
      ]
    },
    {
      "cell_type": "markdown",
      "metadata": {
        "id": "dLl9hCY_31IH"
      },
      "source": [
        "That's right, $\\nabla_\\mathbf{W} \\mathcal{L} = \\mathbf{x}$ and $\\nabla_\\mathbf{b} \\mathcal{L} = 1$. But what happens if our layer has not 1 outputs but $m$ with $\\mathbf{W} \\in \\mathbb{R^{m \\times n}}$, and $\\mathbf{b} \\in \\mathbb{R^{m}}$?"
      ]
    },
    {
      "cell_type": "code",
      "execution_count": 7,
      "metadata": {
        "colab": {
          "base_uri": "https://localhost:8080/"
        },
        "id": "lkvVoafy2fsI",
        "outputId": "f054cb21-30df-4c70-dfa4-338835b2b188"
      },
      "outputs": [
        {
          "name": "stdout",
          "output_type": "stream",
          "text": [
            "x is\n",
            " tensor([-0.8203,  0.2338])\n",
            "grad W is\n",
            " tensor([[-0.8203,  0.2338],\n",
            "        [-0.8203,  0.2338],\n",
            "        [-0.8203,  0.2338]])\n",
            "grad b is\n",
            " tensor([1., 1., 1.])\n"
          ]
        }
      ],
      "source": [
        "n, m = 2, 3\n",
        "\n",
        "w = torch.randn(m, n, requires_grad=True)\n",
        "b = torch.randn(m, requires_grad=True)\n",
        "x = torch.randn(n)\n",
        "\n",
        "# torch.mv for \"Matrix-Vector product\"\n",
        "h = torch.mv(w, x) + b\n",
        "h.sum().backward()\n",
        "\n",
        "print(f\"x is\\n {x}\")\n",
        "print(f\"grad W is\\n {w.grad}\")\n",
        "print(f\"grad b is\\n {b.grad}\")"
      ]
    },
    {
      "cell_type": "markdown",
      "metadata": {
        "id": "HQymn58-4Bks"
      },
      "source": [
        "$\\nabla_\\mathbf{W} \\mathcal{L}$ is simply $\\mathbf{x}$ stacked $m$ times. Which can do with an outer product:"
      ]
    },
    {
      "cell_type": "code",
      "execution_count": 8,
      "metadata": {
        "colab": {
          "base_uri": "https://localhost:8080/"
        },
        "id": "SnnzClbF33GF",
        "outputId": "469e963c-5729-4bc7-a596-b64d3f7e7d7f"
      },
      "outputs": [
        {
          "data": {
            "text/plain": [
              "tensor([[-0.8203,  0.2338],\n",
              "        [-0.8203,  0.2338],\n",
              "        [-0.8203,  0.2338]])"
            ]
          },
          "execution_count": 8,
          "metadata": {},
          "output_type": "execute_result"
        }
      ],
      "source": [
        "torch.outer(torch.tensor([1., 1., 1.]), x)"
      ]
    },
    {
      "cell_type": "markdown",
      "metadata": {
        "id": "ug5jI7x94D9z"
      },
      "source": [
        "Equivalent to:"
      ]
    },
    {
      "cell_type": "code",
      "execution_count": 9,
      "metadata": {
        "colab": {
          "base_uri": "https://localhost:8080/"
        },
        "id": "99ILyj_m4Dcv",
        "outputId": "000383aa-48a0-40cc-c9ee-619304b019e3"
      },
      "outputs": [
        {
          "data": {
            "text/plain": [
              "tensor([[-0.8203,  0.2338],\n",
              "        [-0.8203,  0.2338],\n",
              "        [-0.8203,  0.2338]])"
            ]
          },
          "execution_count": 9,
          "metadata": {},
          "output_type": "execute_result"
        }
      ],
      "source": [
        "torch.mm(torch.ones(3, 1), x[:, None].T)"
      ]
    },
    {
      "cell_type": "markdown",
      "metadata": {
        "id": "ElPvSHrk4Pha"
      },
      "source": [
        "In simpler terms, this implies that every element of the vector $(\\mathbf{x})$ has an equal impact on every output dimension produced by the fully connected layer.\n",
        "\n",
        "Next, we will introduce an additional dimension to $(\\mathbf{x})$, making it $(\\mathbf{x} \\in \\mathbb{R}^{k \\times n})$, where $(k)$ stands for the **batch size**, which refers to the number of samples processed together in a single forward and backward pass. If unsure, examining the dimensions of each tensor can guide you on how to implement this change."
      ]
    },
    {
      "cell_type": "code",
      "execution_count": 10,
      "metadata": {
        "colab": {
          "base_uri": "https://localhost:8080/"
        },
        "id": "SXIFW3974Gm-",
        "outputId": "8405b943-c26d-47c5-ea01-e27ff222063f"
      },
      "outputs": [
        {
          "name": "stdout",
          "output_type": "stream",
          "text": [
            "Output shape is torch.Size([4, 3])\n",
            "x is\n",
            " tensor([[ 0.0891,  0.8598],\n",
            "        [-1.1591,  0.3141],\n",
            "        [-2.8186,  0.0817],\n",
            "        [ 0.3229, -0.4308]])\n",
            "grad W is\n",
            " tensor([[-3.5656, -3.5656, -3.5656],\n",
            "        [ 0.8247,  0.8247,  0.8247]])\n",
            "grad b is\n",
            " tensor([4., 4., 4.])\n"
          ]
        }
      ],
      "source": [
        "k, n, m = 4, 2, 3\n",
        "\n",
        "w = torch.randn(n, m, requires_grad=True)\n",
        "b = torch.randn(m, requires_grad=True)\n",
        "x = torch.randn(k, n)\n",
        "\n",
        "h = torch.mm(x, w) + b\n",
        "print(f\"Output shape is {h.shape}\")\n",
        "h.sum().backward()\n",
        "\n",
        "print(f\"x is\\n {x}\")\n",
        "print(f\"grad W is\\n {w.grad}\")\n",
        "print(f\"grad b is\\n {b.grad}\")"
      ]
    },
    {
      "cell_type": "markdown",
      "metadata": {
        "id": "67vZut8v4p_2"
      },
      "source": [
        "Notice that, now, we do a matrix multiplication between $\\mathbf{X}$ on the left, and $\\mathbf{W}$ on the right. Intuitively we don't want to change the batch size $k$ dimension of the inputs, but only the features dimension $n$.\n",
        "\n",
        "Now the values of $\\nabla_\\mathbf{W} \\mathcal{L}$ and $\\nabla_\\mathbf{b} \\mathcal{L}$ are dependent on the batch size $k$. Which is why we usually normalize both gradients by $k$:"
      ]
    },
    {
      "cell_type": "code",
      "execution_count": 11,
      "metadata": {
        "colab": {
          "base_uri": "https://localhost:8080/"
        },
        "id": "agS23q514mlz",
        "outputId": "dbcab858-985a-4ceb-c70c-58dd34d7affd"
      },
      "outputs": [
        {
          "name": "stdout",
          "output_type": "stream",
          "text": [
            "Mean of x alongside the batch dimension (first one) is\n",
            " tensor([-0.8914,  0.2062])\n",
            "Normalized w grad is\n",
            " tensor([[-0.8914, -0.8914, -0.8914],\n",
            "        [ 0.2062,  0.2062,  0.2062]])\n",
            "Normalized b grad is\n",
            " tensor([1., 1., 1.])\n"
          ]
        }
      ],
      "source": [
        "print(f\"Mean of x alongside the batch dimension (first one) is\\n {x.mean(dim=0)}\")\n",
        "print(f\"Normalized w grad is\\n {w.grad / k}\")\n",
        "print(f\"Normalized b grad is\\n {b.grad / k}\")"
      ]
    },
    {
      "cell_type": "markdown",
      "metadata": {
        "id": "j2cTnh-XEV8g"
      },
      "source": [
        "## MLP with autograd"
      ]
    },
    {
      "cell_type": "markdown",
      "metadata": {
        "id": "uO5bwbLl5EDU"
      },
      "source": [
        "In this section, we'll revisit the Multilayer Perceptron (MLP) and adapt it to utilize PyTorch's autograd for the backward pass. This adjustment mainly involves how we handle the model's parameters.\n",
        "\n",
        "We've encapsulated the model's weights and biases within a Parameter class. This encapsulation automatically sets the tensors to require gradients, along with other functionalities.\n",
        "\n",
        "Key Point: When it's time to update the parameters like weights and biases, make sure to alter their data attribute instead of the tensor itself. This distinction is crucial because PyTorch tracks operations on tensors that need gradients for autograd to calculate the necessary backpropagation steps. However, this tracking is unnecessary for the parameter update process.\n",
        "\n",
        "Here's how you should and shouldn't update parameters:\n",
        "\n",
        "Incorrect way (will track operations unnecessarily):\n",
        "\n",
        "```python\n",
        "new_w = old_w - lr * gradient  # Bad\n",
        "\n",
        "new_w.data = old_w.data - lr * gradient  # Good\n",
        "```"
      ]
    },
    {
      "cell_type": "code",
      "execution_count": 12,
      "metadata": {
        "id": "E8cq_0SC4r16"
      },
      "outputs": [],
      "source": [
        "def softmax(x: torch.Tensor) -> torch.Tensor:\n",
        "    # Implement softmax function\n",
        "    # FIXME\n",
        "    return None\n",
        "\n",
        "def cross_entropy(probs: torch.Tensor, targets: torch.Tensor) -> torch.Tensor:\n",
        "    # Implement cross entropy\n",
        "    # FIXME\n",
        "    return None"
      ]
    },
    {
      "cell_type": "code",
      "execution_count": 50,
      "metadata": {
        "id": "ZYRHTgQS5OVv"
      },
      "outputs": [],
      "source": [
        "from torch.nn import Parameter\n",
        "\n",
        "class MLP:\n",
        "    def __init__(self, input_size: int, hidden_size: int, nb_classes: int, learning_rate: float = 0.01):\n",
        "        self.w_hidden = Parameter(torch.randn(input_size, hidden_size).float())\n",
        "        self.b_hidden = Parameter(torch.zeros(hidden_size).float())\n",
        "\n",
        "        self.w_output = Parameter(torch.randn(hidden_size, nb_classes).float())\n",
        "        self.b_output = Parameter(torch.zeros(nb_classes).float())\n",
        "\n",
        "        self.learning_rate = learning_rate\n",
        "\n",
        "    def forward(self, x: torch.Tensor):\n",
        "        # Use torch.mm and torch.tanh\n",
        "        h_tilde = torch.mm(x, self.w_hidden) + self.b_hidden\n",
        "        h = torch.tanh(h_tilde)\n",
        "        logits = torch.mm(h, self.w_output) + self.b_output\n",
        "\n",
        "        return logits, h_tilde, h\n",
        "\n",
        "    def fit(self, inputs: torch.Tensor, targets: torch.Tensor, train: bool = True):\n",
        "        logits, *outputs = self.forward(inputs)\n",
        "        probs = softmax(logits)\n",
        "        loss = cross_entropy(probs, torch.eye(10)[targets]).mean()\n",
        "        if train:\n",
        "            self.backward(inputs, probs, targets, loss)\n",
        "        return loss\n",
        "\n",
        "    def backward(self, inputs: torch.Tensor, probs: torch.Tensor, targets: torch.Tensor, loss: float):\n",
        "        batch_size = len(probs)\n",
        "\n",
        "        loss.backward()  # Fill the graph with .grad attributes\n",
        "\n",
        "        # FIXME\n",
        "        # update all learnable parameters\n",
        "        # do not forget to zero the gradient to avoid accumulation: param.grad.zero_()\n",
        "\n",
        "    def accuracy(self, inputs: torch.Tensor, targets: torch.Tensor):\n",
        "        y_pred = self.forward(inputs)[0].argmax(dim=1)\n",
        "        y_true = targets\n",
        "\n",
        "        return torch.mean((y_pred == y_true).float())"
      ]
    },
    {
      "cell_type": "code",
      "execution_count": 51,
      "metadata": {
        "id": "7VsmEYgZ_o9b"
      },
      "outputs": [],
      "source": [
        "from sklearn.datasets import load_digits"
      ]
    },
    {
      "cell_type": "code",
      "execution_count": 52,
      "metadata": {
        "colab": {
          "base_uri": "https://localhost:8080/"
        },
        "id": "WmNdgy1iAANT",
        "outputId": "a24ce3c8-da44-4580-b277-f9a5468bff3f"
      },
      "outputs": [
        {
          "data": {
            "text/plain": [
              "(torch.Size([1797, 64]), torch.Size([1797]))"
            ]
          },
          "execution_count": 52,
          "metadata": {},
          "output_type": "execute_result"
        }
      ],
      "source": [
        "dic = load_digits()\n",
        "X = torch.tensor(dic['data']).float()\n",
        "Y = torch.tensor(dic['target']).float()\n",
        "\n",
        "X.shape, Y.shape"
      ]
    },
    {
      "cell_type": "code",
      "execution_count": 53,
      "metadata": {
        "colab": {
          "base_uri": "https://localhost:8080/"
        },
        "id": "4bUrh5MiAA7A",
        "outputId": "2b734fee-6763-4f07-fffc-ac6bad6e8e43"
      },
      "outputs": [
        {
          "name": "stdout",
          "output_type": "stream",
          "text": [
            "Random accuracy:  tensor(0.0929)\n"
          ]
        }
      ],
      "source": [
        "model = MLP(X.shape[1], 50, len(torch.unique(Y)), 0.005)\n",
        "print(\"Random accuracy: \", model.accuracy(X, Y))"
      ]
    },
    {
      "cell_type": "code",
      "execution_count": 54,
      "metadata": {
        "colab": {
          "base_uri": "https://localhost:8080/"
        },
        "id": "xHEImGUEC50T",
        "outputId": "70c3ec55-579d-4252-c59e-b9247b861dea"
      },
      "outputs": [
        {
          "name": "stdout",
          "output_type": "stream",
          "text": [
            "Epoch: 0, loss: 9.184812545776367, accuracy: 0.11853088438510895\n",
            "Epoch: 1, loss: 7.961124897003174, accuracy: 0.14746800065040588\n",
            "Epoch: 2, loss: 6.731103420257568, accuracy: 0.16972732543945312\n",
            "Epoch: 3, loss: 5.934915065765381, accuracy: 0.19421257078647614\n",
            "Epoch: 4, loss: 5.242927551269531, accuracy: 0.22871452569961548\n",
            "Epoch: 5, loss: 4.669482707977295, accuracy: 0.26210349798202515\n",
            "Epoch: 6, loss: 4.20669412612915, accuracy: 0.2927100658416748\n",
            "Epoch: 7, loss: 3.804434299468994, accuracy: 0.3238731324672699\n",
            "Epoch: 8, loss: 3.5068039894104004, accuracy: 0.3533667325973511\n",
            "Epoch: 9, loss: 3.2823305130004883, accuracy: 0.37729549407958984\n"
          ]
        }
      ],
      "source": [
        "batch_size = 32\n",
        "nb_epochs = 10\n",
        "\n",
        "epochs, accuracies, losses = [], [], []\n",
        "\n",
        "for epoch in range(nb_epochs):\n",
        "    for batch_index in range(0, len(X), batch_size):\n",
        "        batch_X = X[batch_index:batch_index + batch_size]\n",
        "        batch_Y = Y[batch_index:batch_index + batch_size]\n",
        "\n",
        "        model.fit(batch_X, batch_Y.int())\n",
        "\n",
        "    loss = model.fit(X, Y.int(), train=False)\n",
        "    acc = model.accuracy(X, Y)\n",
        "\n",
        "    print(f\"Epoch: {epoch}, loss: {loss}, accuracy: {acc}\")\n",
        "    epochs.append(epoch)\n",
        "    losses.append(loss)\n",
        "    accuracies.append(acc)"
      ]
    },
    {
      "cell_type": "markdown",
      "metadata": {
        "id": "jNoi8iuUEYHS"
      },
      "source": [
        "## MLP with torch.nn"
      ]
    },
    {
      "cell_type": "markdown",
      "metadata": {
        "id": "POaDGmuKEc7l"
      },
      "source": [
        "Let's try to train the same MLP with the ``torch.nn`` library. Note that there are some slight difference from your handmade implementation such as the parameters initialization that can have a big influence!"
      ]
    },
    {
      "cell_type": "code",
      "execution_count": 66,
      "metadata": {
        "colab": {
          "base_uri": "https://localhost:8080/",
          "height": 623
        },
        "id": "zW_LmnmPDnKa",
        "outputId": "0bebe0cc-b743-4523-e5c6-e56e3ca94cc9"
      },
      "outputs": [
        {
          "name": "stdout",
          "output_type": "stream",
          "text": [
            "Epoch: 0, loss: 0.5380620360374451, accuracy: 0.8569838404655457\n",
            "Epoch: 1, loss: 0.2971422076225281, accuracy: 0.9220923781394958\n",
            "Epoch: 2, loss: 0.21271173655986786, accuracy: 0.9488035440444946\n",
            "Epoch: 3, loss: 0.19097945094108582, accuracy: 0.9471341371536255\n",
            "Epoch: 4, loss: 0.1310991644859314, accuracy: 0.9677239656448364\n",
            "Epoch: 5, loss: 0.11541824787855148, accuracy: 0.9699499011039734\n",
            "Epoch: 6, loss: 0.08927090466022491, accuracy: 0.9844184517860413\n",
            "Epoch: 7, loss: 0.08691877871751785, accuracy: 0.9799666404724121\n",
            "Epoch: 8, loss: 0.0680476650595665, accuracy: 0.9844184517860413\n",
            "Epoch: 9, loss: 0.05600559711456299, accuracy: 0.989426851272583\n"
          ]
        },
        {
          "data": {
            "image/png": "[encoded data removed]",
            "text/plain": [
              "<Figure size 640x480 with 2 Axes>"
            ]
          },
          "metadata": {},
          "output_type": "display_data"
        }
      ],
      "source": [
        "from torch import nn\n",
        "from torch.nn import functional as F\n",
        "\n",
        "\n",
        "class MLP(nn.Module):\n",
        "  def __init__(self, input_size, hidden_size, nb_classes):\n",
        "    super().__init__()  # Important! torch initializes a bunch of stuff with this line\n",
        "    # FIXME\n",
        "    self.fc1 = # Call Linear layer from pytorch\n",
        "    self.fc2 = # Call Linear layer from pytorch\n",
        "\n",
        "  def forward(self, x) -> torch.tensor:\n",
        "    # FIXME\n",
        "    # Make the forward layer\n",
        "    # First fc1 then tanh then fc2\n",
        "    return None\n",
        "\n",
        "\n",
        "def compute_accuracy(y_pred, y_true):\n",
        "  return torch.mean((y_pred == y_true).float())\n",
        "\n",
        "\n",
        "model = MLP(X.shape[1], 50, len(torch.unique(Y)))\n",
        "optimizer = torch.optim.SGD(model.parameters(), lr=0.1)\n",
        "\n",
        "batch_size = 32\n",
        "nb_epochs = 10\n",
        "\n",
        "epochs, accuracies, losses = [], [], []\n",
        "\n",
        "model.train()\n",
        "\n",
        "for epoch in range(nb_epochs):\n",
        "    for batch_index in range(0, len(X), batch_size):\n",
        "        batch_X = X[batch_index:batch_index + batch_size]\n",
        "        batch_Y = Y[batch_index:batch_index + batch_size]\n",
        "\n",
        "        # Clear the previously accumulated gradients\n",
        "        optimizer.zero_grad()\n",
        "\n",
        "        logits = model(batch_X)\n",
        "        loss = F.cross_entropy(logits.float(), batch_Y.to(torch.int64))  # Does implicitely softmax+CE\n",
        "        loss.backward()\n",
        "\n",
        "        # Apply a step of the optimizer, here gradient descent\n",
        "        optimizer.step()\n",
        "\n",
        "\n",
        "    model.eval()\n",
        "    logits = model(X)\n",
        "    loss = F.cross_entropy(logits.float(), Y.to(torch.int64))\n",
        "    acc = compute_accuracy(logits.argmax(dim=1), Y)\n",
        "    model.train()\n",
        "\n",
        "    print(f\"Epoch: {epoch}, loss: {loss}, accuracy: {acc}\")\n",
        "    epochs.append(epoch)\n",
        "    losses.append(loss.detach())\n",
        "    accuracies.append(acc)\n",
        "\n",
        "plt.subplot(1, 2, 1)\n",
        "plt.plot(epochs, losses)\n",
        "plt.xlabel(\"Epoch\")\n",
        "plt.ylabel(\"Loss\")\n",
        "\n",
        "plt.subplot(1, 2, 2)\n",
        "plt.plot(epochs, accuracies)\n",
        "plt.xlabel(\"Epoch\")\n",
        "plt.ylabel(\"accuracy\");"
      ]
    },
    {
      "cell_type": "markdown",
      "metadata": {
        "id": "YdORFAm2FwNf"
      },
      "source": [
        "Try by yourself to extend this network and see the results:\n",
        "\n",
        "- add more layers\n",
        "- change the hidden dimension size\n",
        "- change the non-linearity\n",
        "- try different initializations"
      ]
    },
    {
      "cell_type": "code",
      "execution_count": null,
      "metadata": {
        "id": "fVWZRp_nEfHc"
      },
      "outputs": [],
      "source": [
        "# FIXME"
      ]
    }
  ],
  "metadata": {
    "colab": {
      "provenance": []
    },
    "kernelspec": {
      "display_name": "Python 3",
      "name": "python3"
    },
    "language_info": {
      "name": "python"
    }
  },
  "nbformat": 4,
  "nbformat_minor": 0
}
