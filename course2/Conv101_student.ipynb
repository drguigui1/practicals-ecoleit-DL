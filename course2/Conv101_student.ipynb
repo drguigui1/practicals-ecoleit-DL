{
  "cells": [
    {
      "cell_type": "markdown",
      "metadata": {
        "id": "8IO0MhBzvB-v"
      },
      "source": [
        "# Convolution 101\n",
        "\n",
        "Welcome to \"Convolution 101\" - a hands-on practical to help you understand convolutions, a key concept in image processing and computer vision. In this colab, you'll implement and visualize hard-coded convolution kernels on a famous mandrill image. This practical experience will solidify your understanding and prepare you for future studies in neural networks and machine learning.\n",
        "\n",
        "Convolutions are crucial for analyzing and manipulating images to extract features and patterns. We'll experiment with various kernels, observe their effects, and discuss their applications. Let's begin by downloading the mandrill image and diving into the exercises."
      ]
    },
    {
      "cell_type": "code",
      "execution_count": 1,
      "metadata": {
        "id": "lsusUhHWuIEw"
      },
      "outputs": [],
      "source": [
        "from PIL import Image\n",
        "import torch\n",
        "from torch import nn\n",
        "from torch.nn import functional as F\n",
        "import numpy as np\n",
        "import matplotlib.pyplot as plt\n",
        "\n",
        "\n",
        "def torch_to_jpg(tensor):\n",
        "  # Useful function to pass from tensor image to numpy image to Pillow image\n",
        "  if len(tensor.shape) == 3:\n",
        "    tensor = tensor.permute(1, 2, 0)\n",
        "  if tensor.shape[-1] == 1:\n",
        "    tensor = tensor[..., 0]\n",
        "  return Image.fromarray(tensor.numpy().astype(np.uint8))\n",
        "\n",
        "def jpg_to_torch(jpg_image):\n",
        "  img = torch.tensor(np.array(jpg_image)).float()\n",
        "  return img.permute(2, 0, 1)  # In torch the order  is channel / height / width"
      ]
    },
    {
      "cell_type": "markdown",
      "metadata": {
        "id": "hhsM0LNbvcw4"
      },
      "source": [
        "Load the mandril.jpg image and convert the image to torch tensor"
      ]
    },
    {
      "cell_type": "code",
      "execution_count": null,
      "metadata": {},
      "outputs": [],
      "source": [
        "# FIXME"
      ]
    },
    {
      "cell_type": "markdown",
      "metadata": {
        "id": "dYP1fy1_vpJq"
      },
      "source": [
        "Always in deep learning, when working on images, text, audio, internal representation, etc. look at the shape!"
      ]
    },
    {
      "cell_type": "code",
      "execution_count": null,
      "metadata": {},
      "outputs": [],
      "source": [
        "# FIXME"
      ]
    },
    {
      "cell_type": "markdown",
      "metadata": {
        "id": "G9nOTYX_vsks"
      },
      "source": [
        "A gray image can simply be made by averaging the channels, do it:"
      ]
    },
    {
      "cell_type": "code",
      "execution_count": null,
      "metadata": {},
      "outputs": [],
      "source": [
        "# FIXME"
      ]
    },
    {
      "cell_type": "markdown",
      "metadata": {
        "id": "vssBk4jTv8KW"
      },
      "source": [
        "Now, let's try a random convolution kernel. We initialize its value using a \"kaiming normal\" which is the usual initialization in convolutional networks. We'll see later what it is exactly.\n",
        "\n",
        "Remember in CNN, a \"kernel\" is actually several convolutions kernels. There is one $k\\times k$ kernel per input channel and per output channel, thus we have $C_i \\times C_o$ $k \\times k$ kernels.\n",
        "\n",
        "The final size is therefore $C_i \\times C_o \\times k \\times k $.\n",
        "\n",
        "In the following block, we define a $5 \\times 5$ kernel. There are $C_i = 3$ input channels (i.e. RGB) which we will map onto $C_o = 3$ output channels:"
      ]
    },
    {
      "cell_type": "code",
      "execution_count": 5,
      "metadata": {
        "id": "Wabc0X65vxlP"
      },
      "outputs": [],
      "source": [
        "w = # FIXME\n",
        "w = # FIXME"
      ]
    },
    {
      "cell_type": "code",
      "execution_count": null,
      "metadata": {},
      "outputs": [],
      "source": [
        "# torch wants a \"batch\" of image, so we add a new dimension to have a batch of size 1\n",
        "\n",
        "o = F.conv2d(\n",
        "    img[None],\n",
        "    w\n",
        ")\n",
        "torch_to_jpg(o[0])"
      ]
    },
    {
      "cell_type": "markdown",
      "metadata": {
        "id": "qMukdCVUwUCN"
      },
      "source": [
        "Pretty colors right? But not very useful. What about handcrafting a  5×5  blurring kernel?"
      ]
    },
    {
      "cell_type": "code",
      "execution_count": null,
      "metadata": {},
      "outputs": [],
      "source": [
        "w = torch.zeros(3, 3, 5, 5)\n",
        "w[0, 0, :, :] = # FIXME\n",
        "w[1, 1, :, :] = # FIXME\n",
        "w[2, 2, :, :] = # FIXME\n",
        "\n",
        "o = F.conv2d(img[None], w)\n",
        "torch_to_jpg(o[0])"
      ]
    },
    {
      "cell_type": "markdown",
      "metadata": {
        "id": "r9PZADYWwvAk"
      },
      "source": [
        "Visualize the kernel values and interpret it. Remember, we don't want to mix channels!"
      ]
    },
    {
      "cell_type": "code",
      "execution_count": null,
      "metadata": {},
      "outputs": [],
      "source": [
        "# FIXME"
      ]
    },
    {
      "cell_type": "markdown",
      "metadata": {
        "id": "di6UXs6dwxr3"
      },
      "source": [
        "Now do a identity kernel, that will do... nothing:"
      ]
    },
    {
      "cell_type": "code",
      "execution_count": null,
      "metadata": {},
      "outputs": [],
      "source": [
        "w = torch.zeros(3, 3, 5, 5)\n",
        "w[0, 0, 2, 2] = # FIXME\n",
        "w[1, 1, 2, 2] = # FIXME\n",
        "w[2, 2, 2, 2] = # FIXME\n",
        "\n",
        "o = F.conv2d(img[None], w)\n",
        "torch_to_jpg(o[0])"
      ]
    },
    {
      "cell_type": "markdown",
      "metadata": {
        "id": "VJa0_3URxGQz"
      },
      "source": [
        "Now try a edge detection kernel from https://en.wikipedia.org/wiki/Kernel_(image_processing). This kind of kernel was extremely useful before CNN, and can be found in many algorithms such a SIFT."
      ]
    },
    {
      "cell_type": "code",
      "execution_count": null,
      "metadata": {},
      "outputs": [],
      "source": [
        "w = torch.zeros(1, 3, 3, 3)\n",
        "\n",
        "mat = torch.tensor([\n",
        "    # FIXME\n",
        "])\n",
        "\n",
        "w[0, 0, :, :] = mat\n",
        "w[0, 1, :, :] = mat\n",
        "w[0, 2, :, :] = mat\n",
        "\n",
        "o = F.conv2d(img[None].mean(dim=0, keepdims=True), w)\n",
        "o = 255 * (o - o.min()) / (o.max() - o.min())  # Rescale to [0, 255]\n",
        "torch_to_jpg(o[0])"
      ]
    },
    {
      "cell_type": "markdown",
      "metadata": {
        "id": "tqc0dLj8xPWq"
      },
      "source": [
        "Let's replicate the effect of average pooling, which reduces the height and width of an image by half, using a convolution kernel. We'll first perform the operation using F.avg_pool2d, and then achieve the same result using F.conv2d for a convolution-based approach."
      ]
    },
    {
      "cell_type": "code",
      "execution_count": null,
      "metadata": {},
      "outputs": [],
      "source": [
        "pooled = # FIXME\n",
        "plt.figure(figsize=(13, 8))\n",
        "plt.subplot(1, 2, 1)\n",
        "plt.imshow(torch_to_jpg(pooled[0]))\n",
        "plt.title(f\"w/ avg pooling, {pooled[0].shape}\")\n",
        "\n",
        "w = torch.zeros(3, 3, 2, 2)\n",
        "w[0, 0, :, :] = # FIXME\n",
        "w[1, 1, :, :] = # FIXME\n",
        "w[2, 2, :, :] = # FIXME\n",
        "res = # FIXME (Call convolution)\n",
        "res = 255 * (res - res.min()) / (res.max() - res.min())  # Rescale to [0, 255]\n",
        "\n",
        "plt.subplot(1, 2, 2)\n",
        "plt.imshow(torch_to_jpg(res[0]))\n",
        "plt.title(f\"w/ convolution, {res[0].shape}\");"
      ]
    },
    {
      "cell_type": "code",
      "execution_count": null,
      "metadata": {
        "id": "kuLzq-iZ0NxU"
      },
      "outputs": [],
      "source": []
    }
  ],
  "metadata": {
    "colab": {
      "provenance": []
    },
    "kernelspec": {
      "display_name": "Python 3",
      "name": "python3"
    },
    "language_info": {
      "name": "python"
    }
  },
  "nbformat": 4,
  "nbformat_minor": 0
}
