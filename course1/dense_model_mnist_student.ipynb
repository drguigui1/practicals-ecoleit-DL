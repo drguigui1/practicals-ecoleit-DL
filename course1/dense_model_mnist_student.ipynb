{
  "cells": [
    {
      "cell_type": "markdown",
      "metadata": {},
      "source": [
        "The goal of this TP is to build a deep learning model to classify fashion images."
      ]
    },
    {
      "cell_type": "markdown",
      "metadata": {},
      "source": [
        "This is the list of categories:\n",
        "\n",
        "- T-Shirt\n",
        "- Trouser\n",
        "- Pullover\n",
        "- Dress\n",
        "- Coat\n",
        "- Sandal\n",
        "- Shirt\n",
        "- Sneaker\n",
        "- Bag\n",
        "- Ankle Boot"
      ]
    },
    {
      "cell_type": "markdown",
      "metadata": {},
      "source": [
        "The following imports and code can help you"
      ]
    },
    {
      "cell_type": "code",
      "execution_count": 1,
      "metadata": {
        "id": "AQKIVY5bWHVD"
      },
      "outputs": [],
      "source": [
        "import torch\n",
        "from torch.utils.data import Dataset\n",
        "from torchvision import datasets\n",
        "from torchvision.transforms import ToTensor\n",
        "import matplotlib.pyplot as plt\n",
        "from torch import nn"
      ]
    },
    {
      "cell_type": "code",
      "execution_count": 2,
      "metadata": {
        "colab": {
          "base_uri": "https://localhost:8080/"
        },
        "id": "SaMqDePYey4K",
        "outputId": "0f11069a-af4c-42ab-cde4-059a2a5879f3"
      },
      "outputs": [
        {
          "name": "stdout",
          "output_type": "stream",
          "text": [
            "Using cuda device\n"
          ]
        }
      ],
      "source": [
        "device = (\n",
        "    \"cuda\"\n",
        "    if torch.cuda.is_available()\n",
        "    else \"mps\"\n",
        "    if torch.backends.mps.is_available()\n",
        "    else \"cpu\"\n",
        ")\n",
        "print(f\"Using {device} device\")"
      ]
    },
    {
      "cell_type": "markdown",
      "metadata": {},
      "source": [
        "### Load the dataset"
      ]
    },
    {
      "cell_type": "markdown",
      "metadata": {
        "id": "tqTXB0L3Wwj2"
      },
      "source": [
        "Load fashion mnist dataset.\n",
        "\n",
        "In the following section you will learn:\n",
        "- How to load the dataset (train & test set)\n",
        "- How to display some data\n",
        "- How to build a pytorch Dataset\n",
        "- How to build a Dataloader\n",
        "\n",
        "https://pytorch.org/tutorials/beginner/basics/data_tutorial.html\n",
        "\n",
        "You can also apply some transformations when you load the data\n",
        "\n",
        "https://pytorch.org/tutorials/beginner/basics/transforms_tutorial.html\n"
      ]
    },
    {
      "cell_type": "code",
      "execution_count": null,
      "metadata": {
        "id": "uNPSA0pnWlWp"
      },
      "outputs": [],
      "source": [
        "# Load the data\n",
        "\n",
        "train_data = datasets.FashionMNIST(\n",
        "    root=\"data\",\n",
        "    train=True,\n",
        "    download=True,\n",
        "    transform=ToTensor()\n",
        ")\n",
        "\n",
        "test_data = datasets.FashionMNIST(\n",
        "    root=\"data\",\n",
        "    train=False,\n",
        "    download=True,\n",
        "    transform=ToTensor()\n",
        ")"
      ]
    },
    {
      "cell_type": "markdown",
      "metadata": {
        "id": "UdJswSDNZM7a"
      },
      "source": [
        "Display the images with matplotlib or pyplot with their label\n",
        "\n",
        "In the following cell you have the label map"
      ]
    },
    {
      "cell_type": "code",
      "execution_count": 4,
      "metadata": {
        "id": "RRqH4U_NZTio"
      },
      "outputs": [],
      "source": [
        "# labels_map = {\n",
        "#     0: \"T-Shirt\",\n",
        "#     1: \"Trouser\",\n",
        "#     2: \"Pullover\",\n",
        "#     3: \"Dress\",\n",
        "#     4: \"Coat\",\n",
        "#     5: \"Sandal\",\n",
        "#     6: \"Shirt\",\n",
        "#     7: \"Sneaker\",\n",
        "#     8: \"Bag\",\n",
        "#     9: \"Ankle Boot\",\n",
        "# }"
      ]
    },
    {
      "cell_type": "code",
      "execution_count": null,
      "metadata": {
        "colab": {
          "base_uri": "https://localhost:8080/",
          "height": 675
        },
        "id": "krZn5QQLWn4A",
        "outputId": "2797e134-6462-4c7d-aa02-d6e8ee6774cc"
      },
      "outputs": [],
      "source": [
        "# FIXME"
      ]
    },
    {
      "cell_type": "markdown",
      "metadata": {},
      "source": [
        "### Build the dataloader"
      ]
    },
    {
      "cell_type": "markdown",
      "metadata": {
        "id": "NDNkRXpnZf8i"
      },
      "source": [
        "Build the data loader\n",
        "\n",
        "`from torch.utils.data import DataLoader`\n",
        "\n",
        "Apply some transformations:\n",
        "\n",
        "- Flatten the last 3 dimensions\n",
        "\n",
        "Currently, we have\n",
        "\n",
        "shape = (batch_size, nb_channels, img_width, img_height)\n",
        "\n",
        "we want a 2D matrix\n",
        "\n",
        "shape = (batch_size, nb_channels * img_width * img_height)\n",
        "\n",
        "For this you can create a dataset wrapper\n",
        "\n",
        "You can also play with the batch_size witch is an important parameter"
      ]
    },
    {
      "cell_type": "code",
      "execution_count": 7,
      "metadata": {
        "id": "Hg-ipk0NZF_t"
      },
      "outputs": [],
      "source": [
        "from torch.utils.data import DataLoader"
      ]
    },
    {
      "cell_type": "code",
      "execution_count": 8,
      "metadata": {
        "id": "CINPFZWSbv2S"
      },
      "outputs": [],
      "source": [
        "# FIXME"
      ]
    },
    {
      "cell_type": "markdown",
      "metadata": {},
      "source": [
        "### Build the neural network"
      ]
    },
    {
      "cell_type": "markdown",
      "metadata": {},
      "source": [
        "At the beginning just implement a simple neural network, you can come back on this step later to build other models"
      ]
    },
    {
      "cell_type": "markdown",
      "metadata": {
        "id": "MYKyqydBah8T"
      },
      "source": [
        "You can follow this link for a simple neural net implementation with pytorch\n",
        "\n",
        "https://pytorch.org/tutorials/beginner/basics/buildmodel_tutorial.html\n",
        "\n",
        "You don't have to use nn.Sequential you can directly define all the layers directly as attribute of the class."
      ]
    },
    {
      "cell_type": "markdown",
      "metadata": {
        "id": "39I7HiHHsntD"
      },
      "source": [
        "[OPT] Now test to apply Conv1 on your model\n",
        "\n",
        "-> It should not work, it is not appropriate for the flatten of an image"
      ]
    },
    {
      "cell_type": "markdown",
      "metadata": {
        "id": "-4pJSWMitfUR"
      },
      "source": [
        "Try 2D Conv, you can check this link\n",
        "\n",
        "For 2D Conv you must have an input shape = (batch_size, nb_channels, img_width, img_height)\n",
        "\n",
        "https://pytorch.org/tutorials/beginner/blitz/cifar10_tutorial.html#define-a-convolutional-neural-network"
      ]
    },
    {
      "cell_type": "code",
      "execution_count": 41,
      "metadata": {
        "id": "V3hnpVcQZ0lK"
      },
      "outputs": [],
      "source": [
        "class SimpleNeuralNetwork(nn.Module):\n",
        "    pass\n",
        "    # FIXME\n",
        "\n",
        "class NeuralNetworkSkipConn(nn.Module):\n",
        "    pass\n",
        "    # FIXME\n",
        "\n",
        "class CNNetwork(nn.Module):\n",
        "    pass\n",
        "    # FIXME"
      ]
    },
    {
      "cell_type": "markdown",
      "metadata": {},
      "source": [
        "The following tests are supposed to work and not fail"
      ]
    },
    {
      "cell_type": "code",
      "execution_count": null,
      "metadata": {},
      "outputs": [],
      "source": [
        "# TEST\n",
        "\n",
        "# Build the model with dummy parameters\n",
        "nb_features = 4\n",
        "nb_labels = 3\n",
        "tmp_net = SimpleNeuralNetwork(nb_features, nb_labels)\n",
        "\n",
        "# Build dummy input\n",
        "batch_size = 10\n",
        "nb_features = 4\n",
        "tmp_inpt = torch.rand((batch_size, nb_features))\n",
        "tmp_output = tmp_net(tmp_inpt)\n",
        "\n",
        "# Check if the output shape is coherent\n",
        "tmp_output.shape\n",
        "\n",
        "# Expected output\n",
        "# shape = [batch_size, nb_labels]\n",
        "# shape = torch.Size([10, 3])"
      ]
    },
    {
      "cell_type": "code",
      "execution_count": null,
      "metadata": {
        "colab": {
          "base_uri": "https://localhost:8080/"
        },
        "id": "iy6l4gzkgPTJ",
        "outputId": "129413e3-20be-4d22-ff44-ab2fb43eaaca"
      },
      "outputs": [],
      "source": [
        "# TEST\n",
        "tmp_net = NeuralNetworkSkipConn(4, 3)\n",
        "\n",
        "tmp_inpt = torch.rand((10, 4))\n",
        "tmp_output = tmp_net(tmp_inpt)\n",
        "tmp_output.shape\n",
        "\n",
        "# Expected output\n",
        "# torch.Size([10, 3])"
      ]
    },
    {
      "cell_type": "code",
      "execution_count": null,
      "metadata": {
        "colab": {
          "base_uri": "https://localhost:8080/"
        },
        "id": "--ZvFMYiyNzo",
        "outputId": "8099a9e7-4ddc-4cf5-8836-6d8070e370fe"
      },
      "outputs": [],
      "source": [
        "# TEST\n",
        "tmp_net = CNNetwork(4)\n",
        "\n",
        "tmp_inpt = torch.rand((10, 784))\n",
        "tmp_output = tmp_net(tmp_inpt)\n",
        "tmp_output.shape\n",
        "\n",
        "# Expected output\n",
        "# torch.Size([10, 10])"
      ]
    },
    {
      "cell_type": "code",
      "execution_count": null,
      "metadata": {},
      "outputs": [],
      "source": [
        "# FIXME"
      ]
    },
    {
      "cell_type": "markdown",
      "metadata": {},
      "source": [
        "You can use the following function to count the number of parameters of your model"
      ]
    },
    {
      "cell_type": "code",
      "execution_count": 94,
      "metadata": {
        "id": "I4WoAdEYzpU8"
      },
      "outputs": [],
      "source": [
        "def count_parameters(model):\n",
        "    return sum(p.numel() for p in model.parameters() if p.requires_grad)"
      ]
    },
    {
      "cell_type": "markdown",
      "metadata": {},
      "source": [
        "### Build optimizer"
      ]
    },
    {
      "cell_type": "markdown",
      "metadata": {
        "id": "UhPhgrVqevrn"
      },
      "source": [
        "Build the optimizer\n",
        "\n",
        "https://pytorch.org/docs/stable/optim.html\n",
        "\n",
        "Start with SGD\n",
        "\n",
        "Compare different optimizer\n",
        "\n",
        "- SGD\n",
        "- SGD with nesterov\n",
        "- Adagrad\n",
        "- Adam\n",
        "- NAdam\n",
        "- RAdam\n",
        "\n",
        "For each optimizer you test, you need to explain a bit how it works (write a paragraph)\n",
        "\n",
        "Test at least 3 optimizer\n",
        "\n",
        "Also play with the parameters of the optimizer (for instance the learning rate)\n",
        "\n",
        "Try to put a big learning rate and a small learning rate"
      ]
    },
    {
      "cell_type": "code",
      "execution_count": 96,
      "metadata": {
        "id": "_d9jn7NdfMoh"
      },
      "outputs": [],
      "source": [
        "from torch.optim import SGD, Adam"
      ]
    },
    {
      "cell_type": "code",
      "execution_count": null,
      "metadata": {},
      "outputs": [],
      "source": [
        "# FIXME"
      ]
    },
    {
      "cell_type": "markdown",
      "metadata": {},
      "source": [
        "### Build loss function"
      ]
    },
    {
      "cell_type": "markdown",
      "metadata": {
        "id": "dRkyo_Z8hS88"
      },
      "source": [
        "Build the loss function\n",
        "\n",
        "https://pytorch.org/docs/stable/nn.html#loss-functions\n",
        "\n",
        "Test different loss function\n",
        "\n",
        "Choose the right loss for our model knowing labels are integers"
      ]
    },
    {
      "cell_type": "markdown",
      "metadata": {
        "id": "aqOUX91bsTF-"
      },
      "source": [
        "[OPT] Test another loss function"
      ]
    },
    {
      "cell_type": "code",
      "execution_count": null,
      "metadata": {
        "colab": {
          "base_uri": "https://localhost:8080/"
        },
        "id": "Bj7q4x1ZfnHk",
        "outputId": "9139a46b-50b7-4c72-db88-7cece29a8e34"
      },
      "outputs": [],
      "source": [
        "# FIXME"
      ]
    },
    {
      "cell_type": "markdown",
      "metadata": {},
      "source": [
        "### Build training and validation loop"
      ]
    },
    {
      "cell_type": "markdown",
      "metadata": {
        "id": "KdyBvCnMiq8Z"
      },
      "source": [
        "Build the training loop and validation loop functions\n",
        "\n",
        "https://pytorch.org/tutorials/beginner/introyt/trainingyt.html#the-training-loop\n",
        "\n",
        "Keep the information of the prediction to compute the metrics\n",
        "\n",
        "You can use tqdm for the progress bar"
      ]
    },
    {
      "cell_type": "code",
      "execution_count": 100,
      "metadata": {
        "id": "JSNOykoI6Rnz"
      },
      "outputs": [],
      "source": [
        "# Send model on GPU if you have a gpu\n",
        "\n",
        "nn_model = nn_model.to(device)"
      ]
    },
    {
      "cell_type": "code",
      "execution_count": 101,
      "metadata": {
        "id": "pg83NOqBdOBF"
      },
      "outputs": [],
      "source": [
        "from tqdm import tqdm"
      ]
    },
    {
      "cell_type": "code",
      "execution_count": 102,
      "metadata": {
        "id": "MNEFV_AliICU"
      },
      "outputs": [],
      "source": [
        "def train_epoch(train_dataloader, nn_model, loss_fn, optimizer):\n",
        "    pass\n",
        "    # FIXME\n",
        "\n",
        "def valid_epoch(test_dataloader, nn_model, loss_fn):\n",
        "    pass\n",
        "    # FIXME\n",
        "\n",
        "def train_and_valid_model(nb_epochs, train_dataloader, test_dataloader, nn_model, loss_fn, optimizer):\n",
        "    pass\n",
        "    # FIXME"
      ]
    },
    {
      "cell_type": "code",
      "execution_count": null,
      "metadata": {
        "colab": {
          "base_uri": "https://localhost:8080/"
        },
        "id": "O_1-PLvp4gUu",
        "outputId": "b5c129ad-b1e6-48a1-85e6-16637a664822"
      },
      "outputs": [],
      "source": [
        "train_loss, test_loss = train_and_valid_model(12, train_dataloader, test_dataloader, nn_model, loss_fn, optimizer)"
      ]
    },
    {
      "cell_type": "markdown",
      "metadata": {
        "id": "Lyxwx2OXo0Ac"
      },
      "source": [
        "Plot the training and test loss of your model\n",
        "\n",
        "You can find many examples on the web with matplotlib or plotly"
      ]
    },
    {
      "cell_type": "code",
      "execution_count": null,
      "metadata": {
        "colab": {
          "base_uri": "https://localhost:8080/",
          "height": 564
        },
        "id": "jjnek_7Pn-Hp",
        "outputId": "709ce6ad-1b28-4ef0-d12c-f0f97ee010be"
      },
      "outputs": [],
      "source": [
        "# FIXME"
      ]
    },
    {
      "cell_type": "markdown",
      "metadata": {
        "id": "KrECvrsFpASN"
      },
      "source": [
        "Now apply your model on both dataloader (train & test) and compute the metrics (you can use sklearn metrics if you want)\n",
        "\n",
        "We want to have a look at:\n",
        "\n",
        "- Accuracy\n",
        "- Precision (check what is 'micro' and 'macro')\n",
        "- Recall (check what is 'micro' and 'macro')\n",
        "- f1 score (check what is 'micro' and 'macro')\n",
        "\n",
        "Don't forget to take the argmax of your predictions to have the classes of your model and not the probabilities"
      ]
    },
    {
      "cell_type": "code",
      "execution_count": 105,
      "metadata": {
        "id": "1DI6_ust6j2D"
      },
      "outputs": [],
      "source": [
        "_, train_predictions, train_labels = valid_epoch(train_dataloader, nn_model, loss_fn)\n",
        "_, test_predictions, test_labels = valid_epoch(test_dataloader, nn_model, loss_fn)"
      ]
    },
    {
      "cell_type": "code",
      "execution_count": null,
      "metadata": {
        "colab": {
          "base_uri": "https://localhost:8080/"
        },
        "id": "Ez2U1j-a-tgU",
        "outputId": "a3785509-9e41-47fd-fae6-bfc384915141"
      },
      "outputs": [],
      "source": [
        "# FIXME"
      ]
    },
    {
      "cell_type": "code",
      "execution_count": 110,
      "metadata": {
        "id": "awHnnF_cBNnz"
      },
      "outputs": [],
      "source": [
        "from sklearn.metrics import accuracy_score, precision_score, recall_score, f1_score"
      ]
    },
    {
      "cell_type": "code",
      "execution_count": 111,
      "metadata": {
        "id": "N5JM-9OKCCg_"
      },
      "outputs": [],
      "source": [
        "def display_metrics(preds, labels):\n",
        "    accuracy = accuracy_score(labels, preds)\n",
        "    precision = precision_score(labels, preds, average='macro')\n",
        "    recall = recall_score(labels, preds, average='macro')\n",
        "    f1 = f1_score(labels, preds, average='macro')\n",
        "\n",
        "    print(f\"Acc: {accuracy}\")\n",
        "    print(f\"Precision (macro): {precision}\")\n",
        "    print(f\"Recall (macro): {recall}\")\n",
        "    print(f\"f1score (macro): {f1}\")"
      ]
    },
    {
      "cell_type": "code",
      "execution_count": null,
      "metadata": {
        "id": "_K1I4Lv6BfKV"
      },
      "outputs": [],
      "source": [
        "# FIXME"
      ]
    }
  ],
  "metadata": {
    "accelerator": "GPU",
    "colab": {
      "gpuType": "T4",
      "machine_shape": "hm",
      "provenance": []
    },
    "kernelspec": {
      "display_name": "Python 3",
      "name": "python3"
    },
    "language_info": {
      "name": "python"
    }
  },
  "nbformat": 4,
  "nbformat_minor": 0
}
